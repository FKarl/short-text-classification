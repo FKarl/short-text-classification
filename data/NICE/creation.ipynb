{
 "cells": [
  {
   "cell_type": "markdown",
   "source": [],
   "metadata": {
    "collapsed": false,
    "pycharm": {
     "name": "#%% md\n"
    }
   }
  },
  {
   "cell_type": "markdown",
   "source": [
    "# Creation of the NICE dataset"
   ],
   "metadata": {
    "collapsed": false,
    "pycharm": {
     "name": "#%% md\n"
    }
   }
  },
  {
   "cell_type": "code",
   "execution_count": 1,
   "outputs": [],
   "source": [
    "# define paths\n",
    "PATH_TO_LABELS = 'source/labels.xml'\n",
    "PATH_TO_TEXTS = 'source/texts.xml'\n",
    "\n",
    "PATH_TO_BINARY_RESULTS = 'NICE_binary/NICE'\n",
    "PATH_TO_RESULTS = 'NICE/NICE'"
   ],
   "metadata": {
    "collapsed": false,
    "pycharm": {
     "name": "#%%\n"
    }
   }
  },
  {
   "cell_type": "code",
   "execution_count": 2,
   "outputs": [],
   "source": [
    "# define parameters\n",
    "RANDOM_STATE = 42\n",
    "TRAIN_SPLIT = 0.7"
   ],
   "metadata": {
    "collapsed": false,
    "pycharm": {
     "name": "#%%\n"
    }
   }
  },
  {
   "cell_type": "markdown",
   "source": [
    "### Load the labels and texts"
   ],
   "metadata": {
    "collapsed": false,
    "pycharm": {
     "name": "#%% md\n"
    }
   }
  },
  {
   "cell_type": "code",
   "execution_count": 3,
   "outputs": [],
   "source": [
    "# read labels.xml file\n",
    "import xml.etree.ElementTree as ET\n",
    "\n",
    "tree = ET.parse(PATH_TO_LABELS)\n",
    "root = tree.getroot()\n",
    "\n",
    "labels = dict()\n",
    "for cl in root:\n",
    "    gs = cl.attrib['isGoodOrService']\n",
    "    cl_number = cl.attrib['classNumber']\n",
    "    for elem in cl:\n",
    "        labels[elem.attrib['id']] = gs, cl_number"
   ],
   "metadata": {
    "collapsed": false,
    "pycharm": {
     "name": "#%%\n"
    }
   }
  },
  {
   "cell_type": "code",
   "execution_count": 4,
   "outputs": [],
   "source": [
    "# read texts.xml file\n",
    "import xml.etree.ElementTree as ET\n",
    "\n",
    "tree = ET.parse(PATH_TO_TEXTS)\n",
    "root = tree.getroot()\n",
    "\n",
    "texts = dict()\n",
    "# skip ClassesTexts and iterate over GoodsAndServicesTexts\n",
    "for text in root[1]:\n",
    "    # indication > labels\n",
    "    texts[text.attrib['idRef']] = text[0][0].text"
   ],
   "metadata": {
    "collapsed": false,
    "pycharm": {
     "name": "#%%# read labels.xml file\n"
    }
   }
  },
  {
   "cell_type": "markdown",
   "source": [
    "### Write the results"
   ],
   "metadata": {
    "collapsed": false,
    "pycharm": {
     "name": "#%% md\n"
    }
   }
  },
  {
   "cell_type": "code",
   "execution_count": 5,
   "outputs": [],
   "source": [
    "# preprocessing\n",
    "import re\n",
    "import string\n",
    "import unicodedata\n",
    "\n",
    "def preprocess(str):\n",
    "    # lowercase\n",
    "    str = str.lower()\n",
    "    # remove text inside [] brackets\n",
    "    str = re.sub(r'\\[.*?\\]', '', str)\n",
    "    # remove punctuation\n",
    "    str = str.translate(str.maketrans('', '', string.punctuation))\n",
    "    # remove accents\n",
    "    str = ''.join(c for c in unicodedata.normalize('NFD', str) if unicodedata.category(c) != 'Mn')\n",
    "    return str"
   ],
   "metadata": {
    "collapsed": false,
    "pycharm": {
     "name": "#%%\n"
    }
   }
  },
  {
   "cell_type": "code",
   "execution_count": 6,
   "outputs": [
    {
     "name": "stdout",
     "output_type": "stream",
     "text": [
      "Train: 6715 Test: 2878\n"
     ]
    }
   ],
   "source": [
    "# create splits with fixed seed\n",
    "import random\n",
    "random.seed(RANDOM_STATE)\n",
    "\n",
    "length = len(texts)\n",
    "split_length = int(length * TRAIN_SPLIT)\n",
    "train_indices = random.sample(range(length), split_length)\n",
    "test_indices = [i for i in range(length) if i not in train_indices]\n",
    "\n",
    "print('Train:', len(train_indices), 'Test:', len(test_indices))\n",
    "\n",
    "keys = list(texts.keys())\n",
    "test_keys = [keys[i] for i in test_indices]\n",
    "train_keys = [keys[i] for i in train_indices]"
   ],
   "metadata": {
    "collapsed": false,
    "pycharm": {
     "name": "#%%\n"
    }
   }
  },
  {
   "cell_type": "code",
   "execution_count": 7,
   "outputs": [],
   "source": [
    "# create binary dataset\n",
    "assert labels.keys() == texts.keys()\n",
    "\n",
    "# train split\n",
    "with open(PATH_TO_BINARY_RESULTS + '_train.txt' , 'w', encoding=\"utf-8\") as f:\n",
    "    # write all except the last line\n",
    "    for key in train_keys[:-1]:\n",
    "        f.write(labels[key][0] + '\\t' + preprocess(texts[key]) + '\\n')\n",
    "    # write the last line\n",
    "    last_key = train_keys[-1]\n",
    "    f.write(labels[last_key][0] + '\\t' + preprocess(texts[last_key]))\n",
    "\n",
    "# test split\n",
    "with open(PATH_TO_BINARY_RESULTS + '_test.txt' , 'w', encoding=\"utf-8\") as f:\n",
    "    # write all except the last line\n",
    "    for key in test_keys[:-1]:\n",
    "        f.write(labels[key][0] + '\\t' + preprocess(texts[key]) + '\\n')\n",
    "    # write the last line\n",
    "    last_key = test_keys[-1]\n",
    "    f.write(labels[last_key][0] + '\\t' + preprocess(texts[last_key]))"
   ],
   "metadata": {
    "collapsed": false,
    "pycharm": {
     "name": "#%%\n"
    }
   }
  },
  {
   "cell_type": "code",
   "execution_count": 8,
   "outputs": [],
   "source": [
    "# create dataset\n",
    "assert labels.keys() == texts.keys()\n",
    "\n",
    "# train split\n",
    "with open(PATH_TO_RESULTS + '_train.txt' , 'w', encoding=\"utf-8\") as f:\n",
    "    # write all except the last line\n",
    "    for key in train_keys[:-1]:\n",
    "        f.write(labels[key][1] + '\\t' + preprocess(texts[key]) + '\\n')\n",
    "    # write the last line\n",
    "    last_key = train_keys[-1]\n",
    "    f.write(labels[last_key][1] + '\\t' + preprocess(texts[last_key]))\n",
    "\n",
    "# test split\n",
    "with open(PATH_TO_RESULTS + '_test.txt' , 'w', encoding=\"utf-8\") as f:\n",
    "    # write all except the last line\n",
    "    for key in test_keys[:-1]:\n",
    "        f.write(labels[key][1] + '\\t' + preprocess(texts[key]) + '\\n')\n",
    "    # write the last line\n",
    "    last_key = test_keys[-1]\n",
    "    f.write(labels[last_key][1] + '\\t' + preprocess(texts[last_key]))"
   ],
   "metadata": {
    "collapsed": false,
    "pycharm": {
     "name": "#%%\n"
    }
   }
  },
  {
   "cell_type": "code",
   "execution_count": null,
   "outputs": [],
   "source": [],
   "metadata": {
    "collapsed": false,
    "pycharm": {
     "name": "#%%\n"
    }
   }
  }
 ],
 "metadata": {
  "kernelspec": {
   "display_name": "Python 3",
   "language": "python",
   "name": "python3"
  },
  "language_info": {
   "codemirror_mode": {
    "name": "ipython",
    "version": 2
   },
   "file_extension": ".py",
   "mimetype": "text/x-python",
   "name": "python",
   "nbconvert_exporter": "python",
   "pygments_lexer": "ipython2",
   "version": "2.7.6"
  }
 },
 "nbformat": 4,
 "nbformat_minor": 0
}